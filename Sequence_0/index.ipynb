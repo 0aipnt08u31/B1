{
 "cells": [
  {
   "cell_type": "markdown",
   "metadata": {},
   "source": [
    "Ce document présente une série de Bloc-Notes destinés aux élèves qui suivent l'enseignement de spécialité Numérique et Science Informatique au lycée Notre Dame du Mur de Morlaix.\n",
    "<img src=\"https://ericecmorlaix.github.io/img/ECAM-Lycee-Notre-Dame-Du-Mur.png\" alt=\"Logo du Lycee Notre Dame Du Mur\" width=50%>"
   ]
  },
  {
   "cell_type": "markdown",
   "metadata": {},
   "source": [
    "<center><h1>Sommaire séquence 0 : Initialisation</h1></center>\n",
    "\n",
    "## Rapporter avec jupyter notebook\n",
    "\n",
    "L'objectif de cette partie est de vous faire découvrir le potentiel de jupyter notebook pour rédiger rapidement un compte rendu scientifique interactif directement publiable sur le Web.\n",
    "\n",
    "1. [Introduction](Introduction-Le_BN_pour_explorer.ipynb) - Un bloc-note pour explorer les fonctionnalités de jupyter notebook\n",
    "1. [Markdown](MarkDown-Le_BN_pour_rapporter.ipynb) - Un bloc-note pour découvrir l'écriture d'un document Web en Markdown dans un jupyter notebook\n",
    "1. [Arithmétique](Arithmetique-Le_BN_pour_calculer.ipynb) - Un bloc-note pour faire des calculs mathématiques en Python dans un jupyter notebook\n",
    "1. [HTML](HTML-Le_BN_pour_multimedier.ipynb) - Un bloc-note pour créer un document Web multimédia en HTML dans un jupyter notebook\n",
    "1. [LaTeX](LaTeX-Le_BN_pour_formuler.ipynb) - Un bloc-note pour enrichir un document Web de formules en $\\LaTeX{}$ dans un jupyter notebook"
   ]
  },
  {
   "cell_type": "markdown",
   "metadata": {},
   "source": [
    "## Programmer en Python 3 dans jupyter notebook :\n",
    "\n",
    "L'objectif est de présenter ici le potentiel de jupyter notebook pour faire l'apprentissage d'un langage de programmation tel que Python 3 et pour développer une application informatique.\n",
    "1. [Initiation](NSI-Python3-Initiation.ipynb) - Un bloc-note pour s'initier à la programmation scientifique en Python 3.\n",
    "1. [Exercices](exercices_init.ipynb) - Un bloc-note d'exercices pour appliquer les base de la programmation en Python 3"
   ]
  },
  {
   "cell_type": "markdown",
   "metadata": {},
   "source": [
    "## Gérer ses fichiers depuis un environnent jupyter notebook :\n",
    "1. Avec [Microsoft Azure Notebook](https://notebooks.azure.com/), se connecter `Sign In` avec votre compte `prenom.nom@eleves.ecmorlaix.fr`\n",
    "> Cliquer sur `My Project` puis sur `Upload GitHub Repo`, dans la fenêtre qui s'ouvre coller l'URL https://github.com/0aipnt08u31/B1\n",
    "##### Besoin d'aide :\n",
    "    - l'aide officielle :\n",
    "        - https://docs.microsoft.com/en-us/azure/notebooks/\n",
    "        - https://notebooks.azure.com/help/introduction\n",
    "    - un tutoriel pour débuter : https://realpython.com/jupyter-notebook-introduction/\n",
    "    - les exemples de [Tony HIRST](https://notebooks.azure.com/OUsefulInfo/projects/gettingstarted)\n",
    "    \n",
    "    \n",
    "2. Avec le serveur JupyterHub du lycée à l'adresse http://jupyterhub.ecmorlaix.bzh:8092, se connecter avec votre compte. C'est vous qui définissez votre mot de passe, ***attention, ne pas l'oublier !***\n",
    "    \n",
    "    > Pour y télécharger les fichiers du dépot `https://github.com/0aipnt08u31/B1`, cliquer sur le lien suivant : http://jupyterhub.ecmorlaix.bzh:8092/hub/user-redirect/git-pull?repo=https%3A%2F%2Fgithub.com%2F0aipnt08u31%2FB1&subPath=index.ipynb&app=notebook\n",
    "    \n",
    "    > Si vous n'avez pas encore de compte, ou si vous avez oubliez votre mot de passe, merci de le signaler à <a href=\"mailto:0aipnt08u31@gmail.com\">0aipnt08u31@gmail.com</a>"
   ]
  },
  {
   "cell_type": "markdown",
   "metadata": {},
   "source": [
    "## Liens pour explorer vers l'infini et au délà...\n",
    "- https://try.jupyter.org/\n",
    "- http://nbviewer.jupyter.org/\n"
   ]
  },
  {
   "cell_type": "markdown",
   "metadata": {},
   "source": [
    "<img src=\"https://ericecmorlaix.github.io/img/ECAM-Logo.png\" alt=\"Logo de l'ECA.M\" width=50%>"
   ]
  },
  {
   "cell_type": "markdown",
   "metadata": {},
   "source": [
    "<a rel=\"license\" href=\"http://creativecommons.org/licenses/by-sa/4.0/\"><img alt=\"Licence Creative Commons\" style=\"border-width:0\" src=\"https://i.creativecommons.org/l/by-sa/4.0/88x31.png\" /></a><br />Ce document est mis à disposition selon les termes de la <a rel=\"license\" href=\"http://creativecommons.org/licenses/by-sa/4.0/\">Licence Creative Commons Attribution -  Partage dans les Mêmes Conditions 4.0 International</a>.\n",
    "\n",
    "Pour toute question, suggestion ou commentaire : <a href=\"mailto:0aipnt08u31@gmail.com\">0aipnt08u31@gmail.com</a>"
   ]
  }
 ],
 "metadata": {
  "kernelspec": {
   "display_name": "Python 3",
   "language": "python",
   "name": "python3"
  },
  "language_info": {
   "codemirror_mode": {
    "name": "ipython",
    "version": 3
   },
   "file_extension": ".py",
   "mimetype": "text/x-python",
   "name": "python",
   "nbconvert_exporter": "python",
   "pygments_lexer": "ipython3",
   "version": "3.6.8"
  }
 },
 "nbformat": 4,
 "nbformat_minor": 2
}
